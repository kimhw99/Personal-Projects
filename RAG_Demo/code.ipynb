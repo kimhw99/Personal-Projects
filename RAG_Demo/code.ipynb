{
 "cells": [
  {
   "cell_type": "code",
   "execution_count": 1,
   "id": "a6652233-eb78-4e67-a6a3-bfd21198d898",
   "metadata": {},
   "outputs": [],
   "source": [
    "from sentence_transformers import SentenceTransformer\n",
    "embedding_model = SentenceTransformer(\"all-MiniLM-L6-v2\")"
   ]
  },
  {
   "cell_type": "code",
   "execution_count": 2,
   "id": "adf1de62-c47b-4b05-b46f-354f6960d5dd",
   "metadata": {},
   "outputs": [],
   "source": [
    "import os\n",
    "import json\n",
    "\n",
    "directory = \"data_korean_history\"\n",
    "documents = []\n",
    "\n",
    "for root, _, files in os.walk(directory):\n",
    "    for file in files:\n",
    "        data_dir = os.path.join(root, file)\n",
    "\n",
    "        with open(data_dir, \"r\", encoding=\"utf-8\") as file:\n",
    "            data = json.load(file)\n",
    "        \n",
    "        text_data = data['query']['pages'][list(data['query']['pages'].keys())[0]]['extract'].split('\\n\\n\\n')\n",
    "        text_title = data['query']['pages'][list(data['query']['pages'].keys())[0]]['title']\n",
    "        for t in text_data:\n",
    "            if len(t) > 300:\n",
    "                documents.append(text_title + '\\n\\n' + t)\n",
    "        \n",
    "\n",
    "    #with open('data/'+f, 'r', encoding='utf-8') as file:\n",
    "        #content = file.read()\n",
    "        #content = content.split('\\n\\n')\n",
    "        #documents = documents + content\n"
   ]
  },
  {
   "cell_type": "code",
   "execution_count": 3,
   "id": "94c64d43-1d8e-4179-ab01-ad63924a8c78",
   "metadata": {},
   "outputs": [],
   "source": [
    "import faiss\n",
    "import numpy as np\n",
    "\n",
    "# Convert documents to embeddings\n",
    "doc_embeddings = np.array(embedding_model.encode(documents), dtype=np.float32)\n",
    "\n",
    "# Create a FAISS index\n",
    "dimension = doc_embeddings.shape[1]\n",
    "index = faiss.IndexFlatL2(dimension) # Index - Vector Embedding Mapping\n",
    "index.add(doc_embeddings)\n"
   ]
  },
  {
   "cell_type": "code",
   "execution_count": 4,
   "id": "582c12e0-8f45-40c4-b47f-7da35f33c041",
   "metadata": {},
   "outputs": [],
   "source": [
    "def retrieve_similar_documents(query, top_k=5):\n",
    "    query_embedding = np.array([embedding_model.encode(query)], dtype=np.float32)\n",
    "    distances, indices = index.search(query_embedding, top_k)\n",
    "    \n",
    "    results = [documents[i] for i in indices[0]]\n",
    "    return results"
   ]
  },
  {
   "cell_type": "code",
   "execution_count": 5,
   "id": "1f2c80f6-0a0c-422b-9862-06dd3a71022f",
   "metadata": {},
   "outputs": [],
   "source": [
    "def context_query(query):\n",
    "    context = \"\\n\\n\".join(retrieve_similar_documents(query, top_k=1))\n",
    "    prompt = f\"Context: {context}\\n\\nQuestion: {query}\\nAnswer:\"\n",
    "    return prompt"
   ]
  },
  {
   "cell_type": "markdown",
   "id": "296e4297-19d5-497c-89a8-048ea817fd24",
   "metadata": {},
   "source": [
    "## RAG with Gemma3-1b"
   ]
  },
  {
   "cell_type": "code",
   "execution_count": 6,
   "id": "1c180e91-1553-4112-8774-020ad62e54de",
   "metadata": {},
   "outputs": [
    {
     "name": "stderr",
     "output_type": "stream",
     "text": [
      "Device set to use cuda\n"
     ]
    }
   ],
   "source": [
    "from transformers import pipeline\n",
    "import torch\n",
    "pipe = pipeline(\"text-generation\", model=\"google/gemma-3-1b-it\", device=\"cuda\", torch_dtype=torch.bfloat16)"
   ]
  },
  {
   "cell_type": "code",
   "execution_count": 8,
   "id": "915cef74-9115-4cc0-8918-993ced10cf4f",
   "metadata": {},
   "outputs": [
    {
     "name": "stdin",
     "output_type": "stream",
     "text": [
      ">> tell me about the imjin war\n"
     ]
    },
    {
     "name": "stdout",
     "output_type": "stream",
     "text": [
      "Okay, here’s a breakdown of the Imjin War, based on the provided context:\n",
      "\n",
      "**What was it?**\n",
      "\n",
      "The Imjin War (1592-1598) was a major conflict between China, Japan, and Korea. It was the first regional war involving massive armies, utilizing modern weaponry by Japanese forces.\n",
      "\n",
      "**Key Details:**\n",
      "\n",
      "*   **Participants:**\n",
      "    *   **China:** Primarily employed its regular army, with estimates of up to 80,000 soldiers.\n",
      "    *   **Japan:** The Japanese army consisted of up to 200,000 men, employing modern military technology.\n",
      "    *   **Korea:** Korean forces were estimated to be in the hundreds of thousands.\n",
      "*   **Scale & Scope:** This was the only military conflict between China, Japan, and Korea during a specific period (1281-1894).\n",
      "*   **Impact:** The war significantly challenged China’s position as the dominant military power in East Asia and demonstrated a willingness of Chinese support for its tributary states.\n",
      "\n",
      "**The Significance:**\n",
      "\n",
      "The Imjin War is considered a pivotal moment in Asian history, marking the beginning of a period of intense rivalry and conflict between these three nations.\n",
      "\n",
      "---\n",
      "\n",
      "Do you want me to elaborate on any specific aspect of the Imjin War, such as its causes, consequences, or specific battles?\n",
      "\n"
     ]
    },
    {
     "name": "stdin",
     "output_type": "stream",
     "text": [
      ">> can you tell me the causes\n"
     ]
    },
    {
     "name": "stdout",
     "output_type": "stream",
     "text": [
      "Okay, let’s delve into the causes of the Imjin War. Here’s a breakdown of the key factors that led to the conflict:\n",
      "\n",
      "**Primary Causes:**\n",
      "\n",
      "*   **Shifting Power Dynamics in Korea:** Korea was a relatively weak and fragmented kingdom at the time. The rise of the powerful Japanese navy and their ambitions to secure trade routes through Korea created a significant threat to Korean sovereignty.\n",
      "*   **Japanese Expansionism:** Japan, under the leadership of the ambitious Tokugawa Ieyasu, was aggressively expanding its influence in Asia. They saw Korea as a strategic base for further expansion and aimed to solidify their control over the Korean peninsula.\n",
      "*   **Chinese Discomfort with Japanese Expansion:** The Ming Chinese government, under the rule of the Hongwu Emperor, viewed Japanese encroachment as a direct challenge to their territorial integrity and a threat to their influence in the region. They feared the possibility of Japan directly challenging Chinese dominance.\n",
      "*   **Trade Disputes:** Japanese merchants were increasingly exploiting Korean trade routes, leading to tensions and accusations of unfair practices.\n",
      "*   **Ideological Differences:** A growing sense of distrust and rivalry existed between the two nations, fuelled by differing political and cultural ideologies.\n",
      "\n",
      "**In short, the Imjin War was the result of a complex interplay of geopolitical ambitions, territorial disputes, and shifting power balances between China, Japan, and Korea.**\n",
      "\n",
      "Do you want me to elaborate on any specific aspect of the causes, such as the role of individual figures or a particular event that triggered the conflict?\n",
      "\n"
     ]
    },
    {
     "ename": "KeyboardInterrupt",
     "evalue": "Interrupted by user",
     "output_type": "error",
     "traceback": [
      "\u001b[1;31m---------------------------------------------------------------------------\u001b[0m",
      "\u001b[1;31mKeyboardInterrupt\u001b[0m                         Traceback (most recent call last)",
      "Cell \u001b[1;32mIn[8], line 6\u001b[0m\n\u001b[0;32m      3\u001b[0m query_chain \u001b[38;5;241m=\u001b[39m \u001b[38;5;124m\"\u001b[39m\u001b[38;5;124m\"\u001b[39m\n\u001b[0;32m      5\u001b[0m \u001b[38;5;28;01mwhile\u001b[39;00m \u001b[38;5;28;01mTrue\u001b[39;00m:\n\u001b[1;32m----> 6\u001b[0m     query \u001b[38;5;241m=\u001b[39m \u001b[38;5;28minput\u001b[39m(\u001b[38;5;124m\"\u001b[39m\u001b[38;5;124m>>\u001b[39m\u001b[38;5;124m\"\u001b[39m)\n\u001b[0;32m      8\u001b[0m     query_chain \u001b[38;5;241m+\u001b[39m\u001b[38;5;241m=\u001b[39m query \u001b[38;5;241m+\u001b[39m \u001b[38;5;124m'\u001b[39m\u001b[38;5;130;01m\\n\u001b[39;00m\u001b[38;5;130;01m\\n\u001b[39;00m\u001b[38;5;130;01m\\n\u001b[39;00m\u001b[38;5;124m'\u001b[39m\n\u001b[0;32m      9\u001b[0m     messages[\u001b[38;5;241m0\u001b[39m]\u001b[38;5;241m.\u001b[39mappend({\n\u001b[0;32m     10\u001b[0m             \u001b[38;5;124m\"\u001b[39m\u001b[38;5;124mrole\u001b[39m\u001b[38;5;124m\"\u001b[39m: \u001b[38;5;124m\"\u001b[39m\u001b[38;5;124muser\u001b[39m\u001b[38;5;124m\"\u001b[39m,\n\u001b[0;32m     11\u001b[0m             \u001b[38;5;124m\"\u001b[39m\u001b[38;5;124mcontent\u001b[39m\u001b[38;5;124m\"\u001b[39m: [{\u001b[38;5;124m\"\u001b[39m\u001b[38;5;124mtype\u001b[39m\u001b[38;5;124m\"\u001b[39m: \u001b[38;5;124m\"\u001b[39m\u001b[38;5;124mtext\u001b[39m\u001b[38;5;124m\"\u001b[39m, \u001b[38;5;124m\"\u001b[39m\u001b[38;5;124mtext\u001b[39m\u001b[38;5;124m\"\u001b[39m: context_query(query_chain)},]})\n",
      "File \u001b[1;32m~\\.conda\\envs\\RAG_Yeshiva\\Lib\\site-packages\\ipykernel\\kernelbase.py:1282\u001b[0m, in \u001b[0;36mKernel.raw_input\u001b[1;34m(self, prompt)\u001b[0m\n\u001b[0;32m   1280\u001b[0m     msg \u001b[38;5;241m=\u001b[39m \u001b[38;5;124m\"\u001b[39m\u001b[38;5;124mraw_input was called, but this frontend does not support input requests.\u001b[39m\u001b[38;5;124m\"\u001b[39m\n\u001b[0;32m   1281\u001b[0m     \u001b[38;5;28;01mraise\u001b[39;00m StdinNotImplementedError(msg)\n\u001b[1;32m-> 1282\u001b[0m \u001b[38;5;28;01mreturn\u001b[39;00m \u001b[38;5;28mself\u001b[39m\u001b[38;5;241m.\u001b[39m_input_request(\n\u001b[0;32m   1283\u001b[0m     \u001b[38;5;28mstr\u001b[39m(prompt),\n\u001b[0;32m   1284\u001b[0m     \u001b[38;5;28mself\u001b[39m\u001b[38;5;241m.\u001b[39m_parent_ident[\u001b[38;5;124m\"\u001b[39m\u001b[38;5;124mshell\u001b[39m\u001b[38;5;124m\"\u001b[39m],\n\u001b[0;32m   1285\u001b[0m     \u001b[38;5;28mself\u001b[39m\u001b[38;5;241m.\u001b[39mget_parent(\u001b[38;5;124m\"\u001b[39m\u001b[38;5;124mshell\u001b[39m\u001b[38;5;124m\"\u001b[39m),\n\u001b[0;32m   1286\u001b[0m     password\u001b[38;5;241m=\u001b[39m\u001b[38;5;28;01mFalse\u001b[39;00m,\n\u001b[0;32m   1287\u001b[0m )\n",
      "File \u001b[1;32m~\\.conda\\envs\\RAG_Yeshiva\\Lib\\site-packages\\ipykernel\\kernelbase.py:1325\u001b[0m, in \u001b[0;36mKernel._input_request\u001b[1;34m(self, prompt, ident, parent, password)\u001b[0m\n\u001b[0;32m   1322\u001b[0m \u001b[38;5;28;01mexcept\u001b[39;00m \u001b[38;5;167;01mKeyboardInterrupt\u001b[39;00m:\n\u001b[0;32m   1323\u001b[0m     \u001b[38;5;66;03m# re-raise KeyboardInterrupt, to truncate traceback\u001b[39;00m\n\u001b[0;32m   1324\u001b[0m     msg \u001b[38;5;241m=\u001b[39m \u001b[38;5;124m\"\u001b[39m\u001b[38;5;124mInterrupted by user\u001b[39m\u001b[38;5;124m\"\u001b[39m\n\u001b[1;32m-> 1325\u001b[0m     \u001b[38;5;28;01mraise\u001b[39;00m \u001b[38;5;167;01mKeyboardInterrupt\u001b[39;00m(msg) \u001b[38;5;28;01mfrom\u001b[39;00m \u001b[38;5;28;01mNone\u001b[39;00m\n\u001b[0;32m   1326\u001b[0m \u001b[38;5;28;01mexcept\u001b[39;00m \u001b[38;5;167;01mException\u001b[39;00m:\n\u001b[0;32m   1327\u001b[0m     \u001b[38;5;28mself\u001b[39m\u001b[38;5;241m.\u001b[39mlog\u001b[38;5;241m.\u001b[39mwarning(\u001b[38;5;124m\"\u001b[39m\u001b[38;5;124mInvalid Message:\u001b[39m\u001b[38;5;124m\"\u001b[39m, exc_info\u001b[38;5;241m=\u001b[39m\u001b[38;5;28;01mTrue\u001b[39;00m)\n",
      "\u001b[1;31mKeyboardInterrupt\u001b[0m: Interrupted by user"
     ]
    }
   ],
   "source": [
    "# Chatbot Demonstration\n",
    "messages = [[]]\n",
    "query_chain = \"\"\n",
    "\n",
    "while True:\n",
    "    query = input(\">>\")\n",
    "    \n",
    "    query_chain += query + '\\n\\n\\n'\n",
    "    messages[0].append({\n",
    "            \"role\": \"user\",\n",
    "            \"content\": [{\"type\": \"text\", \"text\": context_query(query_chain)},]})\n",
    "    \n",
    "    output = pipe(messages, max_new_tokens=1000)\n",
    "    \n",
    "    query_chain += output[0][0]['generated_text'][-1]['content'] + '\\n\\n\\n'\n",
    "    messages[0].append({\n",
    "        \"role\": \"assistant\",\n",
    "        \"content\": [{\"type\": \"text\", \"text\": output[0][0]['generated_text'][-1]['content']},]})\n",
    "    \n",
    "    print(output[0][0]['generated_text'][-1]['content'])\n",
    "    print()"
   ]
  },
  {
   "cell_type": "code",
   "execution_count": 11,
   "id": "8936c4e2-2482-41e2-a376-cff6d4419de3",
   "metadata": {},
   "outputs": [
    {
     "data": {
      "text/plain": [
       "[[{'role': 'user',\n",
       "   'content': [{'type': 'text',\n",
       "     'text': \"Context: Imjin War\\n\\n== Aftermath and conclusion ==\\n\\nSome sources state that the war was a Joseon and Ming victory, while others regard it to be inconclusive.\\nThe Japanese invasions were East Asia's first regional wars involving massed armies equipped with modern weapons. The conflict saw the regular employment of Japanese armies of up to 200,000 men, Ming Chinese armies of 80,000, and the ongoing deployment of local Korean forces numbering in the hundreds of thousands.\\nThe invasions also stood as a challenge to the existing Chinese world order on two levels: the military, in which the war challenged Ming China's status as the supreme military power in East Asia, and the political, in which the war affirmed Chinese willingness to aid in the protection of its tributary states.\\nThis was the only military conflict between China, Japan, and Korea in the period between 1281 (the second Mongol invasion of Japan) and 1894 (the First Sino-Japanese War).:\\u200a97\\u200a\\n\\nQuestion: tell me about the imjin war\\n\\n\\n\\nAnswer:\"}]},\n",
       "  {'role': 'assistant',\n",
       "   'content': [{'type': 'text',\n",
       "     'text': 'Okay, here’s a breakdown of the Imjin War, based on the provided context:\\n\\n**What was it?**\\n\\nThe Imjin War (1592-1598) was a major conflict between China, Japan, and Korea. It was the first regional war involving massive armies, utilizing modern weaponry by Japanese forces.\\n\\n**Key Details:**\\n\\n*   **Participants:**\\n    *   **China:** Primarily employed its regular army, with estimates of up to 80,000 soldiers.\\n    *   **Japan:** The Japanese army consisted of up to 200,000 men, employing modern military technology.\\n    *   **Korea:** Korean forces were estimated to be in the hundreds of thousands.\\n*   **Scale & Scope:** This was the only military conflict between China, Japan, and Korea during a specific period (1281-1894).\\n*   **Impact:** The war significantly challenged China’s position as the dominant military power in East Asia and demonstrated a willingness of Chinese support for its tributary states.\\n\\n**The Significance:**\\n\\nThe Imjin War is considered a pivotal moment in Asian history, marking the beginning of a period of intense rivalry and conflict between these three nations.\\n\\n---\\n\\nDo you want me to elaborate on any specific aspect of the Imjin War, such as its causes, consequences, or specific battles?'}]},\n",
       "  {'role': 'user',\n",
       "   'content': [{'type': 'text',\n",
       "     'text': \"Context: Imjin War\\n\\n== Aftermath and conclusion ==\\n\\nSome sources state that the war was a Joseon and Ming victory, while others regard it to be inconclusive.\\nThe Japanese invasions were East Asia's first regional wars involving massed armies equipped with modern weapons. The conflict saw the regular employment of Japanese armies of up to 200,000 men, Ming Chinese armies of 80,000, and the ongoing deployment of local Korean forces numbering in the hundreds of thousands.\\nThe invasions also stood as a challenge to the existing Chinese world order on two levels: the military, in which the war challenged Ming China's status as the supreme military power in East Asia, and the political, in which the war affirmed Chinese willingness to aid in the protection of its tributary states.\\nThis was the only military conflict between China, Japan, and Korea in the period between 1281 (the second Mongol invasion of Japan) and 1894 (the First Sino-Japanese War).:\\u200a97\\u200a\\n\\nQuestion: tell me about the imjin war\\n\\n\\nOkay, here’s a breakdown of the Imjin War, based on the provided context:\\n\\n**What was it?**\\n\\nThe Imjin War (1592-1598) was a major conflict between China, Japan, and Korea. It was the first regional war involving massive armies, utilizing modern weaponry by Japanese forces.\\n\\n**Key Details:**\\n\\n*   **Participants:**\\n    *   **China:** Primarily employed its regular army, with estimates of up to 80,000 soldiers.\\n    *   **Japan:** The Japanese army consisted of up to 200,000 men, employing modern military technology.\\n    *   **Korea:** Korean forces were estimated to be in the hundreds of thousands.\\n*   **Scale & Scope:** This was the only military conflict between China, Japan, and Korea during a specific period (1281-1894).\\n*   **Impact:** The war significantly challenged China’s position as the dominant military power in East Asia and demonstrated a willingness of Chinese support for its tributary states.\\n\\n**The Significance:**\\n\\nThe Imjin War is considered a pivotal moment in Asian history, marking the beginning of a period of intense rivalry and conflict between these three nations.\\n\\n---\\n\\nDo you want me to elaborate on any specific aspect of the Imjin War, such as its causes, consequences, or specific battles?\\n\\n\\ncan you tell me the causes\\n\\n\\n\\nAnswer:\"}]},\n",
       "  {'role': 'assistant',\n",
       "   'content': [{'type': 'text',\n",
       "     'text': 'Okay, let’s delve into the causes of the Imjin War. Here’s a breakdown of the key factors that led to the conflict:\\n\\n**Primary Causes:**\\n\\n*   **Shifting Power Dynamics in Korea:** Korea was a relatively weak and fragmented kingdom at the time. The rise of the powerful Japanese navy and their ambitions to secure trade routes through Korea created a significant threat to Korean sovereignty.\\n*   **Japanese Expansionism:** Japan, under the leadership of the ambitious Tokugawa Ieyasu, was aggressively expanding its influence in Asia. They saw Korea as a strategic base for further expansion and aimed to solidify their control over the Korean peninsula.\\n*   **Chinese Discomfort with Japanese Expansion:** The Ming Chinese government, under the rule of the Hongwu Emperor, viewed Japanese encroachment as a direct challenge to their territorial integrity and a threat to their influence in the region. They feared the possibility of Japan directly challenging Chinese dominance.\\n*   **Trade Disputes:** Japanese merchants were increasingly exploiting Korean trade routes, leading to tensions and accusations of unfair practices.\\n*   **Ideological Differences:** A growing sense of distrust and rivalry existed between the two nations, fuelled by differing political and cultural ideologies.\\n\\n**In short, the Imjin War was the result of a complex interplay of geopolitical ambitions, territorial disputes, and shifting power balances between China, Japan, and Korea.**\\n\\nDo you want me to elaborate on any specific aspect of the causes, such as the role of individual figures or a particular event that triggered the conflict?'}]}]]"
      ]
     },
     "execution_count": 11,
     "metadata": {},
     "output_type": "execute_result"
    }
   ],
   "source": [
    "messages"
   ]
  },
  {
   "cell_type": "code",
   "execution_count": null,
   "id": "dd8af035-c345-47ac-b762-9263badce1ee",
   "metadata": {},
   "outputs": [],
   "source": []
  }
 ],
 "metadata": {
  "kernelspec": {
   "display_name": "RAG_Yeshiva",
   "language": "python",
   "name": "rag_yeshiva"
  },
  "language_info": {
   "codemirror_mode": {
    "name": "ipython",
    "version": 3
   },
   "file_extension": ".py",
   "mimetype": "text/x-python",
   "name": "python",
   "nbconvert_exporter": "python",
   "pygments_lexer": "ipython3",
   "version": "3.13.2"
  }
 },
 "nbformat": 4,
 "nbformat_minor": 5
}

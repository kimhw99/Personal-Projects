{
 "cells": [
  {
   "cell_type": "code",
   "execution_count": 6,
   "id": "3514a198",
   "metadata": {},
   "outputs": [
    {
     "name": "stdout",
     "output_type": "stream",
     "text": [
      "2.0.0\n",
      "test\n"
     ]
    }
   ],
   "source": [
    "import torch\n",
    "import pandas as pd\n",
    "import numpy as np\n",
    "import matplotlib.pyplot as plt\n",
    "print(torch.__version__)\n",
    "print(\"test\")"
   ]
  },
  {
   "cell_type": "code",
   "execution_count": 7,
   "id": "c50dcbd8",
   "metadata": {},
   "outputs": [],
   "source": [
    "# Any Information can be represented as Tensors\n",
    "#Image Shape: [3 (RGB), x, y] (Image of x * y resolution)"
   ]
  },
  {
   "cell_type": "code",
   "execution_count": 8,
   "id": "8c5e6878",
   "metadata": {},
   "outputs": [
    {
     "name": "stdout",
     "output_type": "stream",
     "text": [
      "tensor(7) , 0 , 7\n"
     ]
    }
   ],
   "source": [
    "# Scalar\n",
    "\n",
    "scalar = torch.tensor(7)\n",
    "print(scalar ,\",\", scalar.ndim ,\",\", scalar.item())"
   ]
  },
  {
   "cell_type": "code",
   "execution_count": 9,
   "id": "902184d7",
   "metadata": {},
   "outputs": [
    {
     "name": "stdout",
     "output_type": "stream",
     "text": [
      "tensor([[1, 2, 3],\n",
      "        [4, 5, 6]]) , 2 , torch.Size([2, 3])\n"
     ]
    }
   ],
   "source": [
    "# Matrix\n",
    "\n",
    "matrix = torch.tensor([[1,2,3],[4,5,6]])\n",
    "print(matrix ,\",\", matrix.ndim ,\",\", matrix.shape )"
   ]
  },
  {
   "cell_type": "code",
   "execution_count": 10,
   "id": "fb79bbb6",
   "metadata": {},
   "outputs": [
    {
     "name": "stdout",
     "output_type": "stream",
     "text": [
      "tensor([[[1, 2, 3],\n",
      "         [4, 5, 6],\n",
      "         [7, 8, 9]]]) , 3 , torch.Size([1, 3, 3])\n"
     ]
    }
   ],
   "source": [
    "# Tensor\n",
    "\n",
    "TENSOR = torch.tensor([[[1,2,3],[4,5,6],[7,8,9]]])\n",
    "print(TENSOR ,\",\", TENSOR.ndim ,\",\", TENSOR.shape )"
   ]
  },
  {
   "cell_type": "code",
   "execution_count": 11,
   "id": "ff880d16",
   "metadata": {},
   "outputs": [
    {
     "name": "stdout",
     "output_type": "stream",
     "text": [
      "tensor([[[0.9753, 0.1910],\n",
      "         [0.6599, 0.2394]],\n",
      "\n",
      "        [[0.2787, 0.0541],\n",
      "         [0.1303, 0.8615]],\n",
      "\n",
      "        [[0.4518, 0.2347],\n",
      "         [0.4499, 0.2485]],\n",
      "\n",
      "        [[0.4517, 0.6069],\n",
      "         [0.5749, 0.3001]],\n",
      "\n",
      "        [[0.3882, 0.8365],\n",
      "         [0.7797, 0.3970]]])\n"
     ]
    }
   ],
   "source": [
    "# Random Tensors - torch.rand()\n",
    "# Start with Random Numbers -> Look at Data -> Update Random Numbers -> (Loop)\n",
    "\n",
    "random_tensor = torch.rand(5, 2, 2)\n",
    "print(random_tensor)\n",
    "\n",
    "# print(\"Dimension :\", random_tensor.ndim)\n",
    "# print(\"Shape :\", random_tensor.shape)"
   ]
  },
  {
   "cell_type": "code",
   "execution_count": 12,
   "id": "4f09635b",
   "metadata": {
    "scrolled": false
   },
   "outputs": [
    {
     "name": "stdout",
     "output_type": "stream",
     "text": [
      "tensor([[0., 0., 0.],\n",
      "        [0., 0., 0.],\n",
      "        [0., 0., 0.]]) \n",
      "\n",
      "tensor([[1., 1., 1.],\n",
      "        [1., 1., 1.],\n",
      "        [1., 1., 1.]])\n"
     ]
    }
   ],
   "source": [
    "# Zeros Tensors - torch.zeros()\n",
    "# Start with Random Numbers -> Look at Data -> Update Random Numbers -> (Loop)\n",
    "\n",
    "zeros = torch.zeros(3, 3)\n",
    "ones = torch.ones(3, 3)\n",
    "\n",
    "print(zeros,\"\\n\")\n",
    "print(ones)"
   ]
  },
  {
   "cell_type": "code",
   "execution_count": 13,
   "id": "1fc434a4",
   "metadata": {},
   "outputs": [
    {
     "name": "stdout",
     "output_type": "stream",
     "text": [
      "tensor([0, 1, 2, 3, 4, 5, 6, 7, 8, 9])\n",
      "tensor([0, 2, 4, 6, 8])\n"
     ]
    }
   ],
   "source": [
    "# torch.arange()\n",
    "\n",
    "zero_to_ten1 = torch.arange(start=0, end=10, step=1)\n",
    "zero_to_ten2 = torch.arange(start=0, end=10, step=2)\n",
    "\n",
    "print(zero_to_ten1)\n",
    "print(zero_to_ten2)"
   ]
  },
  {
   "cell_type": "code",
   "execution_count": 14,
   "id": "cde0bb2d",
   "metadata": {},
   "outputs": [
    {
     "data": {
      "text/plain": [
       "tensor([0, 0, 0, 0, 0, 0, 0, 0, 0, 0])"
      ]
     },
     "execution_count": 14,
     "metadata": {},
     "output_type": "execute_result"
    }
   ],
   "source": [
    "# torch.zeros_like() / torch.ones_like()\n",
    "\n",
    "ten_zeros = torch.zeros_like(input=zero_to_ten1) # will have same shape\n",
    "ten_zeros"
   ]
  },
  {
   "cell_type": "code",
   "execution_count": 19,
   "id": "04dfc7fa",
   "metadata": {},
   "outputs": [
    {
     "name": "stdout",
     "output_type": "stream",
     "text": [
      "tensor([1, 2, 3])\n",
      "\n",
      "\n",
      "tensor * tensor / torch.matmul(tensor, tensor)\n",
      "Equals: tensor([1, 4, 9])\n",
      "\n",
      "\n",
      "tensor + 10\n",
      "Equals: tensor([11, 12, 13])\n"
     ]
    },
    {
     "name": "stderr",
     "output_type": "stream",
     "text": [
      "C:\\Users\\hyun9\\AppData\\Local\\Temp\\ipykernel_29828\\335771707.py:7: UserWarning: The use of `x.T` on tensors of dimension other than 2 to reverse their shape is deprecated and it will throw an error in a future release. Consider `x.mT` to transpose batches of matrices or `x.permute(*torch.arange(x.ndim - 1, -1, -1))` to reverse the dimensions of a tensor. (Triggered internally at C:\\cb\\pytorch_1000000000000\\work\\aten\\src\\ATen\\native\\TensorShape.cpp:3575.)\n",
      "  print(\"Equals:\", tensor * tensor.T)\n"
     ]
    }
   ],
   "source": [
    "# Tensor Operations\n",
    "\n",
    "tensor = torch.tensor([1, 2, 3])\n",
    "print(tensor)\n",
    "print(\"\\n\")\n",
    "print(\"tensor * tensor / torch.matmul(tensor, tensor)\")\n",
    "print(\"Equals:\", tensor * tensor)\n",
    "print(\"\\n\")\n",
    "print(\"tensor + 10\")\n",
    "print(\"Equals:\", tensor +10)"
   ]
  },
  {
   "cell_type": "code",
   "execution_count": 16,
   "id": "c03b8105",
   "metadata": {},
   "outputs": [
    {
     "name": "stdout",
     "output_type": "stream",
     "text": [
      "Shape of tensor: torch.Size([3])\n",
      "Datatype of tensor: torch.float32\n",
      "Device tensor is stored on: cpu\n"
     ]
    }
   ],
   "source": [
    "# Tensor Datatypes\n",
    "#    - Datatype: float32, float16, float64 (float.double) ...\n",
    "#    - Device (CPU, GPU)\n",
    "\n",
    "float_32_tensor = torch.tensor([3.0, 6.0, 9.0],\n",
    "                               dtype=None, # defaults to None, which is torch.float32 or whatever datatype is passed\n",
    "                               device=None, # defaults to None, which uses the default tensor type\n",
    "                               requires_grad=False) # if True, operations are recorded \n",
    "\n",
    "print(f\"Shape of tensor: {float_32_tensor.shape}\")\n",
    "print(f\"Datatype of tensor: {float_32_tensor.dtype}\")\n",
    "print(f\"Device tensor is stored on: {float_32_tensor.device}\") # will default to CPU"
   ]
  },
  {
   "cell_type": "code",
   "execution_count": 17,
   "id": "acd78587",
   "metadata": {},
   "outputs": [
    {
     "data": {
      "text/plain": [
       "tensor([3, 6, 9], dtype=torch.int32)"
      ]
     },
     "execution_count": 17,
     "metadata": {},
     "output_type": "execute_result"
    }
   ],
   "source": [
    "# Change Tensor Datatype - ____.type()\n",
    "\n",
    "float_int_tensor = float_32_tensor.type(torch.int)\n",
    "float_int_tensor"
   ]
  },
  {
   "cell_type": "code",
   "execution_count": 18,
   "id": "4a3b2adb",
   "metadata": {},
   "outputs": [
    {
     "name": "stdout",
     "output_type": "stream",
     "text": [
      "tensor([[1, 2, 3],\n",
      "        [4, 5, 6]])\n"
     ]
    },
    {
     "data": {
      "text/plain": [
       "tensor([[1, 4],\n",
       "        [2, 5],\n",
       "        [3, 6]])"
      ]
     },
     "execution_count": 18,
     "metadata": {},
     "output_type": "execute_result"
    }
   ],
   "source": [
    "# Tensor Transpose - ___.T\n",
    "\n",
    "tensorA = torch.tensor([[1,2,3],[4,5,6]], dtype=int)\n",
    "print(tensorA)\n",
    "tensorA.T #transpose"
   ]
  },
  {
   "cell_type": "code",
   "execution_count": 114,
   "id": "ccde569c",
   "metadata": {},
   "outputs": [
    {
     "data": {
      "text/plain": [
       "tensor(6)"
      ]
     },
     "execution_count": 114,
     "metadata": {},
     "output_type": "execute_result"
    }
   ],
   "source": [
    "# Min, Max, Mean, Sum\n",
    "tensor = torch.tensor([1,3,2,4,6,5])\n",
    "tensor.max()"
   ]
  },
  {
   "cell_type": "code",
   "execution_count": 117,
   "id": "ee1c25c7",
   "metadata": {},
   "outputs": [
    {
     "data": {
      "text/plain": [
       "tensor(4)"
      ]
     },
     "execution_count": 117,
     "metadata": {},
     "output_type": "execute_result"
    }
   ],
   "source": [
    "# ArgMin, ArgMax (Index of min / max)\n",
    "\n",
    "tensor.argmax()"
   ]
  },
  {
   "cell_type": "code",
   "execution_count": 121,
   "id": "f46484cb",
   "metadata": {},
   "outputs": [
    {
     "data": {
      "text/plain": [
       "(tensor([1., 2., 3., 4., 5., 6., 7.]), torch.Size([7]))"
      ]
     },
     "execution_count": 121,
     "metadata": {},
     "output_type": "execute_result"
    }
   ],
   "source": [
    "# Reshape, Stack, Squeeze\n",
    "#    - Reshape\n",
    "#    - Stack\n",
    "#    - Squeeze\n",
    "\n",
    "x = torch.arange(1., 8.)\n",
    "x, x.shape"
   ]
  },
  {
   "cell_type": "code",
   "execution_count": 122,
   "id": "9bf41a46",
   "metadata": {},
   "outputs": [
    {
     "data": {
      "text/plain": [
       "(tensor([[1., 2., 3., 4., 5., 6., 7.]]), torch.Size([1, 7]))"
      ]
     },
     "execution_count": 122,
     "metadata": {},
     "output_type": "execute_result"
    }
   ],
   "source": [
    "x_reshaped = x.reshape(1, 7)\n",
    "x_reshaped, x_reshaped.shape"
   ]
  },
  {
   "cell_type": "code",
   "execution_count": 125,
   "id": "8fac5c04",
   "metadata": {},
   "outputs": [
    {
     "data": {
      "text/plain": [
       "tensor([[1., 2., 3., 4., 5., 6., 7.],\n",
       "        [1., 2., 3., 4., 5., 6., 7.],\n",
       "        [1., 2., 3., 4., 5., 6., 7.],\n",
       "        [1., 2., 3., 4., 5., 6., 7.]])"
      ]
     },
     "execution_count": 125,
     "metadata": {},
     "output_type": "execute_result"
    }
   ],
   "source": [
    "x_stacked = torch.stack([x, x, x, x], dim=0) # try changing dim to dim=1 and see what happens\n",
    "x_stacked"
   ]
  },
  {
   "cell_type": "code",
   "execution_count": 126,
   "id": "0e8fbea0",
   "metadata": {},
   "outputs": [
    {
     "data": {
      "text/plain": [
       "tensor([[1., 1., 1., 1.],\n",
       "        [2., 2., 2., 2.],\n",
       "        [3., 3., 3., 3.],\n",
       "        [4., 4., 4., 4.],\n",
       "        [5., 5., 5., 5.],\n",
       "        [6., 6., 6., 6.],\n",
       "        [7., 7., 7., 7.]])"
      ]
     },
     "execution_count": 126,
     "metadata": {},
     "output_type": "execute_result"
    }
   ],
   "source": [
    "x_stacked = torch.stack([x, x, x, x], dim=1) # try changing dim to dim=1 and see what happens\n",
    "x_stacked"
   ]
  },
  {
   "cell_type": "code",
   "execution_count": 129,
   "id": "a8ba922e",
   "metadata": {},
   "outputs": [
    {
     "data": {
      "text/plain": [
       "tensor([[[0.1779, 0.5395],\n",
       "         [0.1871, 0.6375]],\n",
       "\n",
       "        [[0.6814, 0.0451],\n",
       "         [0.8519, 0.6612]],\n",
       "\n",
       "        [[0.5833, 0.8553],\n",
       "         [0.4496, 0.2953]],\n",
       "\n",
       "        [[0.0128, 0.7524],\n",
       "         [0.3141, 0.7397]],\n",
       "\n",
       "        [[0.4274, 0.7992],\n",
       "         [0.0431, 0.5278]]])"
      ]
     },
     "execution_count": 129,
     "metadata": {},
     "output_type": "execute_result"
    }
   ],
   "source": [
    "#indexing\n",
    "\n",
    "tensor = torch.rand(5,2,2)\n",
    "tensor"
   ]
  },
  {
   "cell_type": "code",
   "execution_count": 130,
   "id": "aad8d7ed",
   "metadata": {},
   "outputs": [
    {
     "data": {
      "text/plain": [
       "tensor([[0.1779, 0.5395],\n",
       "        [0.1871, 0.6375]])"
      ]
     },
     "execution_count": 130,
     "metadata": {},
     "output_type": "execute_result"
    }
   ],
   "source": [
    "tensor[0]"
   ]
  },
  {
   "cell_type": "code",
   "execution_count": 132,
   "id": "cf5cf1bb",
   "metadata": {},
   "outputs": [
    {
     "data": {
      "text/plain": [
       "tensor(0.1779)"
      ]
     },
     "execution_count": 132,
     "metadata": {},
     "output_type": "execute_result"
    }
   ],
   "source": [
    "tensor[0, 0, 0]"
   ]
  },
  {
   "cell_type": "code",
   "execution_count": 134,
   "id": "ec132987",
   "metadata": {},
   "outputs": [
    {
     "data": {
      "text/plain": [
       "tensor([[0.1779, 0.1871],\n",
       "        [0.6814, 0.8519],\n",
       "        [0.5833, 0.4496],\n",
       "        [0.0128, 0.3141],\n",
       "        [0.4274, 0.0431]])"
      ]
     },
     "execution_count": 134,
     "metadata": {},
     "output_type": "execute_result"
    }
   ],
   "source": [
    "tensor[:, :, 0]"
   ]
  },
  {
   "cell_type": "code",
   "execution_count": 135,
   "id": "d73cff1b",
   "metadata": {},
   "outputs": [
    {
     "data": {
      "text/plain": [
       "(array([1., 2., 3., 4., 5., 6., 7.]),\n",
       " tensor([1., 2., 3., 4., 5., 6., 7.], dtype=torch.float64))"
      ]
     },
     "execution_count": 135,
     "metadata": {},
     "output_type": "execute_result"
    }
   ],
   "source": [
    "# Import from NumPy - torch.from_numpy()\n",
    "\n",
    "array = np.arange(1.0, 8.0)\n",
    "tensor = torch.from_numpy(array)\n",
    "array, tensor"
   ]
  },
  {
   "cell_type": "code",
   "execution_count": 136,
   "id": "1a5b3e24",
   "metadata": {},
   "outputs": [
    {
     "data": {
      "text/plain": [
       "(tensor([1., 1., 1., 1., 1., 1., 1.]),\n",
       " array([1., 1., 1., 1., 1., 1., 1.], dtype=float32))"
      ]
     },
     "execution_count": 136,
     "metadata": {},
     "output_type": "execute_result"
    }
   ],
   "source": [
    "# Export to Numpy - ____.numpy()\n",
    "\n",
    "tensor = torch.ones(7) # create a tensor of ones with dtype=float32\n",
    "numpy_tensor = tensor.numpy() # will be dtype=float32 unless changed\n",
    "tensor, numpy_tensor"
   ]
  },
  {
   "cell_type": "code",
   "execution_count": null,
   "id": "01990572",
   "metadata": {},
   "outputs": [],
   "source": [
    "# Pseudorandomness - torch.manual_seed()\n",
    "\n",
    "# # Set the random seed\n",
    "RANDOM_SEED=42 # try changing this to different values and see what happens to the numbers below\n",
    "torch.manual_seed(seed=RANDOM_SEED) \n",
    "random_tensor_C = torch.rand(3, 4)\n",
    "\n",
    "# Have to reset the seed every time a new rand() is called \n",
    "# Without this, tensor_D would be different to tensor_C \n",
    "torch.random.manual_seed(seed=RANDOM_SEED) # try commenting this line out and seeing what happens\n",
    "random_tensor_D = torch.rand(3, 4)\n",
    "\n",
    "print(f\"Tensor C:\\n{random_tensor_C}\\n\")\n",
    "print(f\"Tensor D:\\n{random_tensor_D}\\n\")\n",
    "print(f\"Does Tensor C equal Tensor D? (anywhere)\")\n",
    "random_tensor_C == random_tensor_D"
   ]
  },
  {
   "cell_type": "code",
   "execution_count": 140,
   "id": "f1e1efa7",
   "metadata": {},
   "outputs": [],
   "source": [
    "# Using GPU - ____.to(device)\n",
    "\n",
    "# !nvidia-smi\n",
    "# torch.cuda.is_available()\n",
    "\n",
    "tensor = torch.tensor([1, 2, 3])\n",
    "\n",
    "device = \"cuda\" if torch.cuda.is_available() else \"cpu\" \n",
    "tensor_on_gpu = tensor.to(device)\n",
    "\n",
    "tensor_on_gpu.device"
   ]
  },
  {
   "cell_type": "code",
   "execution_count": 145,
   "id": "4227e7de",
   "metadata": {},
   "outputs": [
    {
     "data": {
      "text/plain": [
       "device(type='cuda', index=0)"
      ]
     },
     "execution_count": 145,
     "metadata": {},
     "output_type": "execute_result"
    }
   ],
   "source": [
    "tensor_on_gpu_2 = torch.tensor([1, 2, 3], device=device)\n",
    "tensor_on_gpu_2.device"
   ]
  },
  {
   "cell_type": "code",
   "execution_count": 148,
   "id": "0449e6b2",
   "metadata": {},
   "outputs": [
    {
     "data": {
      "text/plain": [
       "array([1, 2, 3], dtype=int64)"
      ]
     },
     "execution_count": 148,
     "metadata": {},
     "output_type": "execute_result"
    }
   ],
   "source": [
    "# Back to CPU (for numpy) - ____.cpu().numpy()\n",
    "\n",
    "tensor_back_on_cpu = tensor_on_gpu.cpu().numpy()\n",
    "tensor_back_on_cpu"
   ]
  },
  {
   "cell_type": "code",
   "execution_count": null,
   "id": "0473e401",
   "metadata": {},
   "outputs": [],
   "source": []
  }
 ],
 "metadata": {
  "kernelspec": {
   "display_name": "Python 3 (ipykernel)",
   "language": "python",
   "name": "python3"
  },
  "language_info": {
   "codemirror_mode": {
    "name": "ipython",
    "version": 3
   },
   "file_extension": ".py",
   "mimetype": "text/x-python",
   "name": "python",
   "nbconvert_exporter": "python",
   "pygments_lexer": "ipython3",
   "version": "3.9.13"
  }
 },
 "nbformat": 4,
 "nbformat_minor": 5
}
